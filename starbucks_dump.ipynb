{
  "cells": [
    {
      "cell_type": "markdown",
      "metadata": {
        "id": "OKizF2tWjMBu"
      },
      "source": [
        "# Starbucks Customer Segmentation"
      ]
    },
    {
      "cell_type": "markdown",
      "metadata": {
        "id": "uqHTUIJYjMB2"
      },
      "source": [
        "# Importing libraries"
      ]
    },
    {
      "cell_type": "code",
      "execution_count": null,
      "metadata": {
        "id": "fMQQ4Qi6jMB4"
      },
      "outputs": [],
      "source": [
        "import pandas as pd\n",
        "from pyspark.sql import SparkSession\n",
        "from pyspark.context import SparkContext\n",
        "from pyspark.sql.functions import *\n",
        "import time\n",
        "from pyspark import SparkFiles"
      ]
    },
    {
      "cell_type": "code",
      "execution_count": null,
      "metadata": {
        "id": "iSAKRpSZjMB9"
      },
      "outputs": [],
      "source": [
        "spark = SparkSession.builder.\\\n",
        "master(\"local\").\\\n",
        "appName(\"Starbucks Customer Segmentation\").\\\n",
        "config(\"spark.some.config.option\", \"some-value\").\\\n",
        "getOrCreate()"
      ]
    },
    {
      "cell_type": "markdown",
      "metadata": {
        "id": "_ktSgrrcjMB-"
      },
      "source": [
        "# Portfolio"
      ]
    },
    {
      "cell_type": "code",
      "execution_count": null,
      "metadata": {
        "id": "VjdCS8tdjMB_"
      },
      "outputs": [],
      "source": [
        "url1=(\"https://raw.githubusercontent.com/seifip/starbucks-customer-segmentation/master/data/portfolio.json\")\n",
        "spark.sparkContext.addFile(url1)\n",
        "portfolio = spark.read.option(\"inferSchema\", \"true\").json(SparkFiles.get(\"portfolio.json\"))"
      ]
    },
    {
      "cell_type": "code",
      "execution_count": null,
      "metadata": {
        "id": "v1WW2TBdjMCB",
        "outputId": "3af672fc-555c-40c3-a306-dbc0c69e0841"
      },
      "outputs": [
        {
          "data": {
            "text/plain": [
              "DataFrame[channels: array<string>, difficulty: bigint, duration: double, id: string, offer_type: string, reward: bigint]"
            ]
          },
          "execution_count": 5,
          "metadata": {},
          "output_type": "execute_result"
        }
      ],
      "source": [
        "portfolio"
      ]
    },
    {
      "cell_type": "code",
      "execution_count": null,
      "metadata": {
        "id": "ndV8gjnmjMCF",
        "outputId": "a076442a-46f6-4235-a399-575672964332"
      },
      "outputs": [
        {
          "name": "stdout",
          "output_type": "stream",
          "text": [
            "root\n",
            " |-- channels: array (nullable = true)\n",
            " |    |-- element: string (containsNull = true)\n",
            " |-- difficulty: long (nullable = true)\n",
            " |-- duration: double (nullable = true)\n",
            " |-- id: string (nullable = true)\n",
            " |-- offer_type: string (nullable = true)\n",
            " |-- reward: long (nullable = true)\n",
            "\n"
          ]
        }
      ],
      "source": [
        "portfolio.printSchema()"
      ]
    },
    {
      "cell_type": "code",
      "execution_count": null,
      "metadata": {
        "id": "RtBFdV2KjMCG",
        "outputId": "61e6f3b9-a2e9-4a32-c6ab-1244c0860769"
      },
      "outputs": [
        {
          "name": "stdout",
          "output_type": "stream",
          "text": [
            "+--------------------+----------+--------+--------------------+-------------+------+\n",
            "|            channels|difficulty|duration|                  id|   offer_type|reward|\n",
            "+--------------------+----------+--------+--------------------+-------------+------+\n",
            "|[email, mobile, s...|        10|     7.0|ae264e3637204a6fb...|         bogo|    10|\n",
            "|[web, email, mobi...|        10|     5.0|4d5c57ea9a6940dd8...|         bogo|    10|\n",
            "|[web, email, mobile]|         0|     4.0|3f207df678b143eea...|informational|     0|\n",
            "|[web, email, mobile]|         5|     7.0|9b98b8c7a33c4b65b...|         bogo|     5|\n",
            "|        [web, email]|        20|    10.0|0b1e1539f2cc45b7b...|     discount|     5|\n",
            "+--------------------+----------+--------+--------------------+-------------+------+\n",
            "only showing top 5 rows\n",
            "\n"
          ]
        }
      ],
      "source": [
        "portfolio.show(5)"
      ]
    },
    {
      "cell_type": "code",
      "execution_count": null,
      "metadata": {
        "id": "h__E_FudjMCH",
        "outputId": "88016434-573c-4209-94d5-4e4650a24751"
      },
      "outputs": [
        {
          "data": {
            "text/plain": [
              "10"
            ]
          },
          "execution_count": 8,
          "metadata": {},
          "output_type": "execute_result"
        }
      ],
      "source": [
        "portfolio.count()"
      ]
    },
    {
      "cell_type": "markdown",
      "metadata": {
        "id": "7VAh3uSCjMCJ"
      },
      "source": [
        "# Profile"
      ]
    },
    {
      "cell_type": "code",
      "execution_count": null,
      "metadata": {
        "id": "BgADc2HpjMCJ"
      },
      "outputs": [],
      "source": [
        "url2=(\"https://raw.githubusercontent.com/seifip/starbucks-customer-segmentation/master/data/profile.json\")\n",
        "spark.sparkContext.addFile(url2)\n",
        "profile = spark.read.option(\"inferSchema\", \"true\").json(SparkFiles.get(\"profile.json\"))"
      ]
    },
    {
      "cell_type": "code",
      "execution_count": null,
      "metadata": {
        "id": "k9RWWtrjjMCK",
        "outputId": "45e9f6cb-68fb-46ac-b568-9807f1159c9e"
      },
      "outputs": [
        {
          "data": {
            "text/plain": [
              "DataFrame[age: bigint, became_member_on: string, gender: string, id: string, income: bigint]"
            ]
          },
          "execution_count": 10,
          "metadata": {},
          "output_type": "execute_result"
        }
      ],
      "source": [
        "profile"
      ]
    },
    {
      "cell_type": "code",
      "execution_count": null,
      "metadata": {
        "id": "XJpp8SIvjMCK",
        "outputId": "5d2b5097-39ea-4ac1-d803-11dc1d9a39d9"
      },
      "outputs": [
        {
          "name": "stdout",
          "output_type": "stream",
          "text": [
            "root\n",
            " |-- age: long (nullable = true)\n",
            " |-- became_member_on: string (nullable = true)\n",
            " |-- gender: string (nullable = true)\n",
            " |-- id: string (nullable = true)\n",
            " |-- income: long (nullable = true)\n",
            "\n"
          ]
        }
      ],
      "source": [
        "profile.printSchema()"
      ]
    },
    {
      "cell_type": "code",
      "execution_count": null,
      "metadata": {
        "id": "aqOtGwsrjMCL",
        "outputId": "efcd49ec-58e7-4fbf-b343-61df9d45a79c"
      },
      "outputs": [
        {
          "name": "stdout",
          "output_type": "stream",
          "text": [
            "+---+----------------+------+--------------------+------+\n",
            "|age|became_member_on|gender|                  id|income|\n",
            "+---+----------------+------+--------------------+------+\n",
            "|118|        20170212|  null|68be06ca386d4c319...|  null|\n",
            "| 55|        20170715|     F|0610b486422d4921a...|112000|\n",
            "|118|        20180712|  null|38fe809add3b4fcf9...|  null|\n",
            "| 75|        20170509|     F|78afa995795e4d85b...|100000|\n",
            "|118|        20170804|  null|a03223e636434f42a...|  null|\n",
            "+---+----------------+------+--------------------+------+\n",
            "only showing top 5 rows\n",
            "\n"
          ]
        }
      ],
      "source": [
        "profile.show(5)"
      ]
    },
    {
      "cell_type": "code",
      "execution_count": null,
      "metadata": {
        "id": "eY_B0fCEjMCM",
        "outputId": "726a59a5-cdaf-4068-9547-9d9b06273f5d"
      },
      "outputs": [
        {
          "data": {
            "text/plain": [
              "17000"
            ]
          },
          "execution_count": 13,
          "metadata": {},
          "output_type": "execute_result"
        }
      ],
      "source": [
        "profile.count()"
      ]
    },
    {
      "cell_type": "markdown",
      "metadata": {
        "id": "feIds7hVjMCM"
      },
      "source": [
        "# Transcript"
      ]
    },
    {
      "cell_type": "code",
      "execution_count": null,
      "metadata": {
        "id": "wtWfCWY4jMCM"
      },
      "outputs": [],
      "source": [
        "url3=(\"https://raw.githubusercontent.com/seifip/starbucks-customer-segmentation/master/data/transcript.json\")\n",
        "spark.sparkContext.addFile(url3)\n",
        "transcript = spark.read.option(\"inferSchema\", \"true\").json(SparkFiles.get(\"transcript.json\"))"
      ]
    },
    {
      "cell_type": "code",
      "execution_count": null,
      "metadata": {
        "id": "eN4MfoigjMCN",
        "outputId": "4f97afff-310b-42ad-98b7-d1a71627fcba"
      },
      "outputs": [
        {
          "data": {
            "text/plain": [
              "DataFrame[event: string, person: string, time: bigint, value: struct<amount:double,offer id:string,offer_id:string,reward:bigint>]"
            ]
          },
          "execution_count": 15,
          "metadata": {},
          "output_type": "execute_result"
        }
      ],
      "source": [
        "transcript"
      ]
    },
    {
      "cell_type": "code",
      "execution_count": null,
      "metadata": {
        "id": "Vuh8GEO_jMCO",
        "outputId": "3eea2c2b-bafa-4d4d-c41c-0bdb3de7d95d"
      },
      "outputs": [
        {
          "name": "stdout",
          "output_type": "stream",
          "text": [
            "root\n",
            " |-- event: string (nullable = true)\n",
            " |-- person: string (nullable = true)\n",
            " |-- time: long (nullable = true)\n",
            " |-- value: struct (nullable = true)\n",
            " |    |-- amount: double (nullable = true)\n",
            " |    |-- offer id: string (nullable = true)\n",
            " |    |-- offer_id: string (nullable = true)\n",
            " |    |-- reward: long (nullable = true)\n",
            "\n"
          ]
        }
      ],
      "source": [
        "transcript.printSchema()"
      ]
    },
    {
      "cell_type": "code",
      "execution_count": null,
      "metadata": {
        "id": "bKZNYax8jMCO",
        "outputId": "547fd5ea-0c4a-4f77-f16c-67563b0b26a4"
      },
      "outputs": [
        {
          "name": "stdout",
          "output_type": "stream",
          "text": [
            "+--------------+--------------------+----+--------------------+\n",
            "|         event|              person|time|               value|\n",
            "+--------------+--------------------+----+--------------------+\n",
            "|offer received|78afa995795e4d85b...|   0|[, 9b98b8c7a33c4b...|\n",
            "|offer received|a03223e636434f42a...|   0|[, 0b1e1539f2cc45...|\n",
            "|offer received|e2127556f4f64592b...|   0|[, 2906b810c7d441...|\n",
            "|offer received|8ec6ce2a7e7949b1b...|   0|[, fafdcd668e3743...|\n",
            "|offer received|68617ca6246f4fbc8...|   0|[, 4d5c57ea9a6940...|\n",
            "+--------------+--------------------+----+--------------------+\n",
            "only showing top 5 rows\n",
            "\n"
          ]
        }
      ],
      "source": [
        "transcript.show(5)"
      ]
    },
    {
      "cell_type": "code",
      "execution_count": null,
      "metadata": {
        "id": "vcAdtnEWjMCP",
        "outputId": "4360210d-a3d7-412e-c616-2405a9442388"
      },
      "outputs": [
        {
          "data": {
            "text/plain": [
              "306534"
            ]
          },
          "execution_count": 18,
          "metadata": {},
          "output_type": "execute_result"
        }
      ],
      "source": [
        "transcript.count()"
      ]
    },
    {
      "cell_type": "code",
      "execution_count": null,
      "metadata": {
        "id": "dbzDKDL3jMCQ",
        "outputId": "d97849e6-e09c-45e5-a323-b915458d48ba"
      },
      "outputs": [
        {
          "data": {
            "text/plain": [
              "pyspark.sql.dataframe.DataFrame"
            ]
          },
          "execution_count": 19,
          "metadata": {},
          "output_type": "execute_result"
        }
      ],
      "source": [
        "type(transcript)"
      ]
    },
    {
      "cell_type": "code",
      "execution_count": null,
      "metadata": {
        "id": "dwEO2R53jMCQ"
      },
      "outputs": [],
      "source": []
    },
    {
      "cell_type": "code",
      "execution_count": null,
      "metadata": {
        "id": "XdYVhfH5jMCR",
        "outputId": "f0e0a8bd-44b1-47a1-e646-6eb9df78a6df"
      },
      "outputs": [
        {
          "name": "stdout",
          "output_type": "stream",
          "text": [
            "+--------------------+----------+--------+--------------------+-------------+------+\n",
            "|            channels|difficulty|duration|                  id|   offer_type|reward|\n",
            "+--------------------+----------+--------+--------------------+-------------+------+\n",
            "|[email, mobile, s...|        10|     7.0|ae264e3637204a6fb...|         bogo|    10|\n",
            "|[web, email, mobi...|        10|     5.0|4d5c57ea9a6940dd8...|         bogo|    10|\n",
            "|[web, email, mobile]|         0|     4.0|3f207df678b143eea...|informational|     0|\n",
            "|[web, email, mobile]|         5|     7.0|9b98b8c7a33c4b65b...|         bogo|     5|\n",
            "|        [web, email]|        20|    10.0|0b1e1539f2cc45b7b...|     discount|     5|\n",
            "|[web, email, mobi...|         7|     7.0|2298d6c36e964ae4a...|     discount|     3|\n",
            "|[web, email, mobi...|        10|    10.0|fafdcd668e3743c1b...|     discount|     2|\n",
            "|[email, mobile, s...|         0|     3.0|5a8bc65990b245e5a...|informational|     0|\n",
            "|[web, email, mobi...|         5|     5.0|f19421c1d4aa40978...|         bogo|     5|\n",
            "|[web, email, mobile]|        10|     7.0|2906b810c7d441179...|     discount|     2|\n",
            "+--------------------+----------+--------+--------------------+-------------+------+\n",
            "\n"
          ]
        }
      ],
      "source": [
        "portfolio.show()"
      ]
    },
    {
      "cell_type": "code",
      "execution_count": null,
      "metadata": {
        "id": "-VxyzTsBjMCR",
        "outputId": "28a31c9f-db07-488b-d70b-4b6e719fa723"
      },
      "outputs": [
        {
          "name": "stdout",
          "output_type": "stream",
          "text": [
            "+---+----------------+------+--------------------+------+\n",
            "|age|became_member_on|gender|                  id|income|\n",
            "+---+----------------+------+--------------------+------+\n",
            "|118|        20170212|  null|68be06ca386d4c319...|  null|\n",
            "| 55|        20170715|     F|0610b486422d4921a...|112000|\n",
            "|118|        20180712|  null|38fe809add3b4fcf9...|  null|\n",
            "| 75|        20170509|     F|78afa995795e4d85b...|100000|\n",
            "|118|        20170804|  null|a03223e636434f42a...|  null|\n",
            "| 68|        20180426|     M|e2127556f4f64592b...| 70000|\n",
            "|118|        20170925|  null|8ec6ce2a7e7949b1b...|  null|\n",
            "|118|        20171002|  null|68617ca6246f4fbc8...|  null|\n",
            "| 65|        20180209|     M|389bc3fa690240e79...| 53000|\n",
            "|118|        20161122|  null|8974fc5686fe429db...|  null|\n",
            "|118|        20170824|  null|c4863c7985cf408fa...|  null|\n",
            "|118|        20150919|  null|148adfcaa27d485b8...|  null|\n",
            "| 58|        20171111|     M|2eeac8d8feae4a8ca...| 51000|\n",
            "| 61|        20170911|     F|aa4862eba776480b8...| 57000|\n",
            "| 26|        20140213|     M|e12aeaf2d47d42479...| 46000|\n",
            "| 62|        20160211|     F|31dda685af34476ca...| 71000|\n",
            "| 49|        20141113|     M|62cf5e10845442329...| 52000|\n",
            "|118|        20170801|  null|744d603ef08c4f33a...|  null|\n",
            "| 57|        20171231|     M|6445de3b47274c759...| 42000|\n",
            "| 61|        20180501|     F|a448667f336b42c9a...| 40000|\n",
            "+---+----------------+------+--------------------+------+\n",
            "only showing top 20 rows\n",
            "\n"
          ]
        }
      ],
      "source": [
        "profile.show()"
      ]
    },
    {
      "cell_type": "code",
      "execution_count": null,
      "metadata": {
        "id": "zP88tBRbjMCR",
        "outputId": "c6861f4e-113e-49ca-a02a-b8e871a4fd9a"
      },
      "outputs": [
        {
          "name": "stdout",
          "output_type": "stream",
          "text": [
            "+--------------+--------------------+----+--------------------+\n",
            "|         event|              person|time|               value|\n",
            "+--------------+--------------------+----+--------------------+\n",
            "|offer received|78afa995795e4d85b...|   0|[, 9b98b8c7a33c4b...|\n",
            "|offer received|a03223e636434f42a...|   0|[, 0b1e1539f2cc45...|\n",
            "|offer received|e2127556f4f64592b...|   0|[, 2906b810c7d441...|\n",
            "|offer received|8ec6ce2a7e7949b1b...|   0|[, fafdcd668e3743...|\n",
            "|offer received|68617ca6246f4fbc8...|   0|[, 4d5c57ea9a6940...|\n",
            "|offer received|389bc3fa690240e79...|   0|[, f19421c1d4aa40...|\n",
            "|offer received|c4863c7985cf408fa...|   0|[, 2298d6c36e964a...|\n",
            "|offer received|2eeac8d8feae4a8ca...|   0|[, 3f207df678b143...|\n",
            "|offer received|aa4862eba776480b8...|   0|[, 0b1e1539f2cc45...|\n",
            "|offer received|31dda685af34476ca...|   0|[, 0b1e1539f2cc45...|\n",
            "|offer received|744d603ef08c4f33a...|   0|[, 0b1e1539f2cc45...|\n",
            "|offer received|3d02345581554e81b...|   0|[, 0b1e1539f2cc45...|\n",
            "|offer received|4b0da7e80e5945209...|   0|[, ae264e3637204a...|\n",
            "|offer received|c27e0d6ab72c455a8...|   0|[, 3f207df678b143...|\n",
            "|offer received|d53717f5400c4e84a...|   0|[, 0b1e1539f2cc45...|\n",
            "|offer received|f806632c011441378...|   0|[, fafdcd668e3743...|\n",
            "|offer received|d058f73bf8674a26a...|   0|[, 0b1e1539f2cc45...|\n",
            "|offer received|65aba5c617294649a...|   0|[, 2906b810c7d441...|\n",
            "|offer received|ebe7ef46ea6f4963a...|   0|[, 9b98b8c7a33c4b...|\n",
            "|offer received|1e9420836d554513a...|   0|[, ae264e3637204a...|\n",
            "+--------------+--------------------+----+--------------------+\n",
            "only showing top 20 rows\n",
            "\n"
          ]
        }
      ],
      "source": [
        "transcript.show()"
      ]
    },
    {
      "cell_type": "markdown",
      "metadata": {
        "id": "D20an57wjMCS"
      },
      "source": [
        "# Data Wrangling"
      ]
    },
    {
      "cell_type": "code",
      "execution_count": null,
      "metadata": {
        "id": "1OZ4TnfkjMCS"
      },
      "outputs": [],
      "source": [
        "# Removing duplicate rows for all the datasets\n",
        "profile = profile.distinct()\n",
        "portfolio = portfolio.distinct()\n",
        "transcript = transcript.distinct()"
      ]
    },
    {
      "cell_type": "markdown",
      "metadata": {
        "id": "gFw3SrC4jMCT"
      },
      "source": [
        "### Profile :"
      ]
    },
    {
      "cell_type": "code",
      "execution_count": null,
      "metadata": {
        "id": "5EKwEPqSjMCT",
        "outputId": "c516f601-baeb-4853-96e1-1546954d7dd8"
      },
      "outputs": [
        {
          "name": "stdout",
          "output_type": "stream",
          "text": [
            "+---+\n",
            "|age|\n",
            "+---+\n",
            "+---+\n",
            "\n",
            "+----------------+\n",
            "|became_member_on|\n",
            "+----------------+\n",
            "+----------------+\n",
            "\n",
            "+------+\n",
            "|gender|\n",
            "+------+\n",
            "|  null|\n",
            "+------+\n",
            "only showing top 1 row\n",
            "\n",
            "+---+\n",
            "| id|\n",
            "+---+\n",
            "+---+\n",
            "\n",
            "+------+\n",
            "|income|\n",
            "+------+\n",
            "|  null|\n",
            "+------+\n",
            "only showing top 1 row\n",
            "\n"
          ]
        }
      ],
      "source": [
        "# Checking Null values are present or not for all the columns\n",
        "profile.select(\"age\").filter(\"age is null\").show(1)\n",
        "profile.select(\"became_member_on\").filter(\"became_member_on is null\").show(1)\n",
        "profile.select(\"gender\").filter(\"gender is null\").show(1)\n",
        "profile.select(\"id\").filter(\"id is null\").show(1)\n",
        "profile.select(\"income\").filter(\"income is null\").show(1)"
      ]
    },
    {
      "cell_type": "code",
      "execution_count": null,
      "metadata": {
        "id": "VWogr00hjMCU",
        "outputId": "12184ed1-a2a4-427e-8eea-cd2cf76612e5"
      },
      "outputs": [
        {
          "name": "stdout",
          "output_type": "stream",
          "text": [
            "+---+----------------+------+--------------------+------+\n",
            "|age|became_member_on|gender|                  id|income|\n",
            "+---+----------------+------+--------------------+------+\n",
            "| 57|        20160827|     F|b3ad8755d0ac47faa...| 67000|\n",
            "| 52|        20140113|     F|6cabe7c6741e4f0eb...| 45000|\n",
            "| 32|        20180124|     M|938d98afcb894aeb8...| 48000|\n",
            "| 75|        20171008|     M|18d0ef3f15b5463ab...| 71000|\n",
            "| 54|        20141024|     M|4ecc12e5805548f88...| 46000|\n",
            "| 60|        20180115|     M|fbbd60d747d642928...| 83000|\n",
            "| 40|        20180309|     M|67b51df867b040ba8...| 30000|\n",
            "| 54|        20180710|     F|e4b82a439eed4edea...|100000|\n",
            "| 49|        20180307|     M|3b3ae55adad84178b...| 31000|\n",
            "| 56|        20170909|     M|4d17f173ee4d460f9...| 86000|\n",
            "| 29|        20171006|     M|7a5b9a18071a4e6fb...| 54000|\n",
            "| 63|        20150925|     M|7eda9728df624f09b...| 96000|\n",
            "| 57|        20170227|     M|ac3b8c9879304a9db...| 72000|\n",
            "| 58|        20170113|     M|073fce5708884b30a...| 96000|\n",
            "| 42|        20160905|     M|7d30ff83c4c141d79...| 68000|\n",
            "| 61|        20171112|     M|8f97634e6de846dca...| 54000|\n",
            "| 38|        20160407|     M|96f00d6a432547f8b...| 51000|\n",
            "| 49|        20170623|     F|bc4f249b7c5f417eb...| 66000|\n",
            "| 60|        20160210|     M|10b65a9ff6c24c45b...| 34000|\n",
            "| 27|        20150802|     M|7a4f2c4d9ddd4279a...| 40000|\n",
            "+---+----------------+------+--------------------+------+\n",
            "only showing top 20 rows\n",
            "\n"
          ]
        }
      ],
      "source": [
        "# working on null values\n",
        "\n",
        "# filling null values of gender and became_member_on columns with NA\n",
        "profile = profile.na.fill({'gender': 'NA','became_member_on':'NA'})\n",
        "\n",
        "# filling income column's null values with the mean or average value of income column\n",
        "from pyspark.sql.functions import mean\n",
        "mean_val = profile.select(mean(profile.income)).collect()\n",
        "mean_val\n",
        "mean_income = mean_val[0][0]\n",
        "#now using mean_income value to fill the nulls in income column\n",
        "profile = profile.na.fill(mean_income,subset=['income'])\n",
        "\n",
        "# filling age column's null values with the mean or average value of age column\n",
        "mean_values = profile.select(mean(profile.age)).collect()\n",
        "mean_values\n",
        "mean_age = mean_values[0][0]\n",
        "#now using mean_age value to fill the nulls in age column\n",
        "profile = profile.na.fill(mean_age,subset=['age'])\n",
        "\n",
        "# removing rows where null is present in id column (primary key)\n",
        "profile = profile.filter(\"id is not null\")\n",
        "profile.show()\n"
      ]
    },
    {
      "cell_type": "code",
      "execution_count": null,
      "metadata": {
        "id": "_n1g8agxjMCU",
        "outputId": "3db16b9d-a390-4262-f7bd-c98eea0871a1"
      },
      "outputs": [
        {
          "name": "stdout",
          "output_type": "stream",
          "text": [
            "+---+----------------+------+--------------------+------+\n",
            "|age|became_member_on|gender|                  id|income|\n",
            "+---+----------------+------+--------------------+------+\n",
            "| 57|        20160827|     F|b3ad8755d0ac47faa...| 67000|\n",
            "| 52|        20140113|     F|6cabe7c6741e4f0eb...| 45000|\n",
            "| 32|        20180124|     M|938d98afcb894aeb8...| 48000|\n",
            "| 75|        20171008|     M|18d0ef3f15b5463ab...| 71000|\n",
            "| 54|        20141024|     M|4ecc12e5805548f88...| 46000|\n",
            "| 60|        20180115|     M|fbbd60d747d642928...| 83000|\n",
            "| 40|        20180309|     M|67b51df867b040ba8...| 30000|\n",
            "| 54|        20180710|     F|e4b82a439eed4edea...|100000|\n",
            "| 49|        20180307|     M|3b3ae55adad84178b...| 31000|\n",
            "| 56|        20170909|     M|4d17f173ee4d460f9...| 86000|\n",
            "| 29|        20171006|     M|7a5b9a18071a4e6fb...| 54000|\n",
            "| 63|        20150925|     M|7eda9728df624f09b...| 96000|\n",
            "| 57|        20170227|     M|ac3b8c9879304a9db...| 72000|\n",
            "| 58|        20170113|     M|073fce5708884b30a...| 96000|\n",
            "| 42|        20160905|     M|7d30ff83c4c141d79...| 68000|\n",
            "| 61|        20171112|     M|8f97634e6de846dca...| 54000|\n",
            "| 38|        20160407|     M|96f00d6a432547f8b...| 51000|\n",
            "| 49|        20170623|     F|bc4f249b7c5f417eb...| 66000|\n",
            "| 60|        20160210|     M|10b65a9ff6c24c45b...| 34000|\n",
            "| 27|        20150802|     M|7a4f2c4d9ddd4279a...| 40000|\n",
            "+---+----------------+------+--------------------+------+\n",
            "only showing top 20 rows\n",
            "\n",
            "unique genders are :\n",
            "+------+\n",
            "|gender|\n",
            "+------+\n",
            "|     F|\n",
            "|     M|\n",
            "|     O|\n",
            "+------+\n",
            "\n"
          ]
        }
      ],
      "source": [
        "# dropping rows having age > 75\n",
        "profile = profile.filter(\"age <= 75\")\n",
        "profile.show()\n",
        "\n",
        "print(\"unique genders are :\")\n",
        "profile.select(\"gender\").distinct().show()"
      ]
    },
    {
      "cell_type": "code",
      "execution_count": null,
      "metadata": {
        "id": "zECWPH-ajMCV",
        "outputId": "5145d0d3-8306-446d-c2a6-1d2c679ac8ba"
      },
      "outputs": [
        {
          "name": "stdout",
          "output_type": "stream",
          "text": [
            "+---+----------------+------+--------------------+------+\n",
            "|age|became_member_on|gender|                  id|income|\n",
            "+---+----------------+------+--------------------+------+\n",
            "| 57|      2016-08-27|     F|b3ad8755d0ac47faa...| 67000|\n",
            "| 52|      2014-01-13|     F|6cabe7c6741e4f0eb...| 45000|\n",
            "| 32|      2018-01-24|     M|938d98afcb894aeb8...| 48000|\n",
            "| 75|      2017-10-08|     M|18d0ef3f15b5463ab...| 71000|\n",
            "| 54|      2014-10-24|     M|4ecc12e5805548f88...| 46000|\n",
            "| 60|      2018-01-15|     M|fbbd60d747d642928...| 83000|\n",
            "| 40|      2018-03-09|     M|67b51df867b040ba8...| 30000|\n",
            "| 54|      2018-07-10|     F|e4b82a439eed4edea...|100000|\n",
            "| 49|      2018-03-07|     M|3b3ae55adad84178b...| 31000|\n",
            "| 56|      2017-09-09|     M|4d17f173ee4d460f9...| 86000|\n",
            "| 29|      2017-10-06|     M|7a5b9a18071a4e6fb...| 54000|\n",
            "| 63|      2015-09-25|     M|7eda9728df624f09b...| 96000|\n",
            "| 57|      2017-02-27|     M|ac3b8c9879304a9db...| 72000|\n",
            "| 58|      2017-01-13|     M|073fce5708884b30a...| 96000|\n",
            "| 42|      2016-09-05|     M|7d30ff83c4c141d79...| 68000|\n",
            "| 61|      2017-11-12|     M|8f97634e6de846dca...| 54000|\n",
            "| 38|      2016-04-07|     M|96f00d6a432547f8b...| 51000|\n",
            "| 49|      2017-06-23|     F|bc4f249b7c5f417eb...| 66000|\n",
            "| 60|      2016-02-10|     M|10b65a9ff6c24c45b...| 34000|\n",
            "| 27|      2015-08-02|     M|7a4f2c4d9ddd4279a...| 40000|\n",
            "+---+----------------+------+--------------------+------+\n",
            "only showing top 20 rows\n",
            "\n",
            "root\n",
            " |-- age: long (nullable = true)\n",
            " |-- became_member_on: date (nullable = true)\n",
            " |-- gender: string (nullable = false)\n",
            " |-- id: string (nullable = true)\n",
            " |-- income: long (nullable = true)\n",
            "\n"
          ]
        }
      ],
      "source": [
        "# converting str to date format for \"became_member_on\" column\n",
        "profile = profile.withColumn(\"became_member_on\", coalesce(to_date(\"became_member_on\", \"yyyyMMdd\")))\n",
        "profile.show()\n",
        "profile.printSchema()"
      ]
    },
    {
      "cell_type": "code",
      "execution_count": null,
      "metadata": {
        "id": "tITAspI8jMCW",
        "outputId": "7751e981-cd58-4ca0-a57e-7b1d63b8ddab"
      },
      "outputs": [
        {
          "name": "stdout",
          "output_type": "stream",
          "text": [
            "Descriptive stats for age and income:\n",
            "+-------+------------------+------+--------------------+------------------+\n",
            "|summary|               age|gender|                  id|            income|\n",
            "+-------+------------------+------+--------------------+------------------+\n",
            "|  count|             13175| 13175|               13175|             13175|\n",
            "|   mean| 50.78998102466793|  null|2.565638242424101E31| 64636.81214421253|\n",
            "| stddev|14.804504804077256|  null|                 NaN|21384.177997490653|\n",
            "|    min|                18|     F|0009655768c64bdeb...|             30000|\n",
            "|    max|                75|     O|ffff82501cea40309...|            120000|\n",
            "+-------+------------------+------+--------------------+------------------+\n",
            "\n"
          ]
        }
      ],
      "source": [
        "print('Descriptive stats for age and income:')\n",
        "profile.describe().show()"
      ]
    },
    {
      "cell_type": "code",
      "execution_count": null,
      "metadata": {
        "id": "Okyy-kN6jMCW",
        "outputId": "3e1ce891-14df-4985-c161-0e94b8365242"
      },
      "outputs": [
        {
          "name": "stdout",
          "output_type": "stream",
          "text": [
            "+---+----------------+------+--------------------+------+\n",
            "|age|became_member_on|gender|                  id|income|\n",
            "+---+----------------+------+--------------------+------+\n",
            "| 57|      2016-08-27|     F|b3ad8755d0ac47faa...| 67000|\n",
            "| 52|      2014-01-13|     F|6cabe7c6741e4f0eb...| 45000|\n",
            "| 32|      2018-01-24|     M|938d98afcb894aeb8...| 48000|\n",
            "| 75|      2017-10-08|     M|18d0ef3f15b5463ab...| 71000|\n",
            "| 54|      2014-10-24|     M|4ecc12e5805548f88...| 46000|\n",
            "| 60|      2018-01-15|     M|fbbd60d747d642928...| 83000|\n",
            "| 40|      2018-03-09|     M|67b51df867b040ba8...| 30000|\n",
            "| 54|      2018-07-10|     F|e4b82a439eed4edea...|100000|\n",
            "| 49|      2018-03-07|     M|3b3ae55adad84178b...| 31000|\n",
            "| 56|      2017-09-09|     M|4d17f173ee4d460f9...| 86000|\n",
            "| 29|      2017-10-06|     M|7a5b9a18071a4e6fb...| 54000|\n",
            "| 63|      2015-09-25|     M|7eda9728df624f09b...| 96000|\n",
            "| 57|      2017-02-27|     M|ac3b8c9879304a9db...| 72000|\n",
            "| 58|      2017-01-13|     M|073fce5708884b30a...| 96000|\n",
            "| 42|      2016-09-05|     M|7d30ff83c4c141d79...| 68000|\n",
            "| 61|      2017-11-12|     M|8f97634e6de846dca...| 54000|\n",
            "| 38|      2016-04-07|     M|96f00d6a432547f8b...| 51000|\n",
            "| 49|      2017-06-23|     F|bc4f249b7c5f417eb...| 66000|\n",
            "| 60|      2016-02-10|     M|10b65a9ff6c24c45b...| 34000|\n",
            "| 27|      2015-08-02|     M|7a4f2c4d9ddd4279a...| 40000|\n",
            "+---+----------------+------+--------------------+------+\n",
            "only showing top 20 rows\n",
            "\n"
          ]
        }
      ],
      "source": [
        "profile.show()"
      ]
    },
    {
      "cell_type": "markdown",
      "metadata": {
        "id": "cAQ4xXvfjMCW"
      },
      "source": [
        "### Transcript :"
      ]
    },
    {
      "cell_type": "code",
      "execution_count": null,
      "metadata": {
        "id": "zTUCSIwIjMCX",
        "outputId": "bd8bea9b-ccc3-4994-8d59-d9ba8e6d7f33"
      },
      "outputs": [
        {
          "name": "stdout",
          "output_type": "stream",
          "text": [
            "+--------------+--------------------+----+--------------------+\n",
            "|         event|              person|time|               value|\n",
            "+--------------+--------------------+----+--------------------+\n",
            "|offer received|bf2c086d4c4049289...|   0|[, 9b98b8c7a33c4b...|\n",
            "|offer received|27aa749a6f5f448e9...|   0|[, 5a8bc65990b245...|\n",
            "|offer received|b94c7601b17b41609...|   0|[, ae264e3637204a...|\n",
            "|offer received|696493b9f616411a8...|   0|[, fafdcd668e3743...|\n",
            "|offer received|56163abfe5a848deb...|   0|[, f19421c1d4aa40...|\n",
            "|offer received|abf29a94ba3d46488...|   0|[, 5a8bc65990b245...|\n",
            "|offer received|23264960b6724afea...|   0|[, 2298d6c36e964a...|\n",
            "|offer received|7fc12dee8c9144f3b...|   0|[, fafdcd668e3743...|\n",
            "|offer received|cf8dc5cf3dc84f648...|   0|[, 5a8bc65990b245...|\n",
            "|offer received|269424f345f6478e8...|   0|[, 2906b810c7d441...|\n",
            "|offer received|fcbf38029321416f9...|   0|[, fafdcd668e3743...|\n",
            "|offer received|2f21db46b5f84be5b...|   0|[, ae264e3637204a...|\n",
            "|offer received|e5c59811346840e2a...|   0|[, 4d5c57ea9a6940...|\n",
            "|offer received|e633a9090fc746a38...|   0|[, fafdcd668e3743...|\n",
            "|offer received|b519d8d3bc1c429b8...|   0|[, fafdcd668e3743...|\n",
            "|offer received|6f6d0c5ddfdb431d9...|   0|[, 2906b810c7d441...|\n",
            "|offer received|30ab0845fe8c4da38...|   0|[, fafdcd668e3743...|\n",
            "|offer received|dd2676580c2f4926b...|   0|[, 9b98b8c7a33c4b...|\n",
            "|offer received|7d76c5a597f7490e8...|   0|[, 3f207df678b143...|\n",
            "|offer received|d98603fa5f1a4d21a...|   0|[, 2906b810c7d441...|\n",
            "+--------------+--------------------+----+--------------------+\n",
            "only showing top 20 rows\n",
            "\n"
          ]
        }
      ],
      "source": [
        "transcript.show()"
      ]
    },
    {
      "cell_type": "code",
      "execution_count": null,
      "metadata": {
        "id": "n1HI1gEXjMCX",
        "outputId": "075dfb25-c1a4-4968-9f7b-2b75d0a901d8"
      },
      "outputs": [
        {
          "name": "stdout",
          "output_type": "stream",
          "text": [
            "+-----+\n",
            "|event|\n",
            "+-----+\n",
            "+-----+\n",
            "\n",
            "+------+\n",
            "|person|\n",
            "+------+\n",
            "+------+\n",
            "\n",
            "+----+\n",
            "|time|\n",
            "+----+\n",
            "+----+\n",
            "\n"
          ]
        }
      ],
      "source": [
        "# Checking null values are present or not for all the common columns\n",
        "transcript.select(\"event\").filter(\"event is null\").show(1)\n",
        "transcript.select(\"person\").filter(\"person is null\").show(1)\n",
        "transcript.select(\"time\").filter(\"time is null\").show(1)"
      ]
    },
    {
      "cell_type": "code",
      "execution_count": null,
      "metadata": {
        "id": "UKbKXWXojMCY",
        "outputId": "354f5b3f-71d1-4c39-dc7c-43eaeef7c548"
      },
      "outputs": [
        {
          "name": "stdout",
          "output_type": "stream",
          "text": [
            "+--------------+--------------------+----+--------------------+\n",
            "|         event|              person|time|               value|\n",
            "+--------------+--------------------+----+--------------------+\n",
            "|offer received|bf2c086d4c4049289...|   0|[, 9b98b8c7a33c4b...|\n",
            "|offer received|27aa749a6f5f448e9...|   0|[, 5a8bc65990b245...|\n",
            "|offer received|b94c7601b17b41609...|   0|[, ae264e3637204a...|\n",
            "|offer received|696493b9f616411a8...|   0|[, fafdcd668e3743...|\n",
            "|offer received|56163abfe5a848deb...|   0|[, f19421c1d4aa40...|\n",
            "|offer received|abf29a94ba3d46488...|   0|[, 5a8bc65990b245...|\n",
            "|offer received|23264960b6724afea...|   0|[, 2298d6c36e964a...|\n",
            "|offer received|7fc12dee8c9144f3b...|   0|[, fafdcd668e3743...|\n",
            "|offer received|cf8dc5cf3dc84f648...|   0|[, 5a8bc65990b245...|\n",
            "|offer received|269424f345f6478e8...|   0|[, 2906b810c7d441...|\n",
            "|offer received|fcbf38029321416f9...|   0|[, fafdcd668e3743...|\n",
            "|offer received|2f21db46b5f84be5b...|   0|[, ae264e3637204a...|\n",
            "|offer received|e5c59811346840e2a...|   0|[, 4d5c57ea9a6940...|\n",
            "|offer received|e633a9090fc746a38...|   0|[, fafdcd668e3743...|\n",
            "|offer received|b519d8d3bc1c429b8...|   0|[, fafdcd668e3743...|\n",
            "|offer received|6f6d0c5ddfdb431d9...|   0|[, 2906b810c7d441...|\n",
            "|offer received|30ab0845fe8c4da38...|   0|[, fafdcd668e3743...|\n",
            "|offer received|dd2676580c2f4926b...|   0|[, 9b98b8c7a33c4b...|\n",
            "|offer received|7d76c5a597f7490e8...|   0|[, 3f207df678b143...|\n",
            "|offer received|d98603fa5f1a4d21a...|   0|[, 2906b810c7d441...|\n",
            "+--------------+--------------------+----+--------------------+\n",
            "only showing top 20 rows\n",
            "\n"
          ]
        }
      ],
      "source": [
        "# working on null values for all the common columns\n",
        "\n",
        "# filling null values for event and time columns\n",
        "transcript = transcript.na.fill({'event': 'NA','time': 0})\n",
        "\n",
        "# removing rows where null is present in person column (primary key)\n",
        "transcript = transcript.filter(\"person is not null\")\n",
        "\n",
        "transcript.show()"
      ]
    },
    {
      "cell_type": "code",
      "execution_count": null,
      "metadata": {
        "id": "UsJnocagjMCZ",
        "outputId": "d94213ca-60c6-4c52-e4f1-3fee57d290dd"
      },
      "outputs": [
        {
          "name": "stdout",
          "output_type": "stream",
          "text": [
            "Unique event types:\n",
            "+---------------+\n",
            "|          event|\n",
            "+---------------+\n",
            "|    transaction|\n",
            "| offer received|\n",
            "|offer completed|\n",
            "|   offer viewed|\n",
            "+---------------+\n",
            "\n"
          ]
        }
      ],
      "source": [
        "print('Unique event types:')\n",
        "transcript.select('event').distinct().show()"
      ]
    },
    {
      "cell_type": "markdown",
      "metadata": {
        "id": "HZ3mfyQkjMCZ"
      },
      "source": [
        "### Splitting transactions and offers dataframes"
      ]
    },
    {
      "cell_type": "code",
      "execution_count": null,
      "metadata": {
        "id": "BI4-9LFTjMCa",
        "outputId": "8ee61ec1-93e8-4221-a10b-4ff946d4d196"
      },
      "outputs": [
        {
          "name": "stdout",
          "output_type": "stream",
          "text": [
            "+-----------+--------------------+----+------------+\n",
            "|      event|              person|time|trans_amount|\n",
            "+-----------+--------------------+----+------------+\n",
            "|transaction|7a1eda9ab57049068...|   0|        6.13|\n",
            "|transaction|2fb4578848f34ce4b...|   0|        21.4|\n",
            "|transaction|6851449a9192478d8...|   0|         2.3|\n",
            "|transaction|d5e320154bed47159...|   0|        7.83|\n",
            "|transaction|461e13a14a074077b...|   6|        7.94|\n",
            "|transaction|6e0b0d6db74942b49...|   6|        8.12|\n",
            "|transaction|8d59a5826cc547f58...|   6|       23.77|\n",
            "|transaction|ae56c4d76ac84a639...|   6|       27.23|\n",
            "|transaction|1575f73eb0274ab6b...|   6|        0.13|\n",
            "|transaction|ea6cfa381e2c492e9...|   6|       13.84|\n",
            "|transaction|26829118683847c8a...|  12|        7.41|\n",
            "|transaction|9ca7ccb9ef3e44b4a...|  12|        3.13|\n",
            "|transaction|3dbbfc8fc19d40df9...|  12|       10.98|\n",
            "|transaction|3b3f484e876f475ea...|  12|        15.1|\n",
            "|transaction|63b1186a539940508...|  12|        2.93|\n",
            "|transaction|f422c808ac4d47d1a...|  12|         7.7|\n",
            "|transaction|7a59e21bd1c04f688...|  18|       16.21|\n",
            "|transaction|1719f6842add4adb9...|  18|        4.17|\n",
            "|transaction|cd69545de4d64f128...|  18|        1.64|\n",
            "|transaction|3a8d37c666d648a0b...|  24|        1.21|\n",
            "+-----------+--------------------+----+------------+\n",
            "only showing top 20 rows\n",
            "\n",
            "+--------------+--------------------+----+--------------------+\n",
            "|         event|              person|time|            offer_id|\n",
            "+--------------+--------------------+----+--------------------+\n",
            "|offer received|bf2c086d4c4049289...|   0|9b98b8c7a33c4b65b...|\n",
            "|offer received|27aa749a6f5f448e9...|   0|5a8bc65990b245e5a...|\n",
            "|offer received|b94c7601b17b41609...|   0|ae264e3637204a6fb...|\n",
            "|offer received|696493b9f616411a8...|   0|fafdcd668e3743c1b...|\n",
            "|offer received|56163abfe5a848deb...|   0|f19421c1d4aa40978...|\n",
            "|offer received|abf29a94ba3d46488...|   0|5a8bc65990b245e5a...|\n",
            "|offer received|23264960b6724afea...|   0|2298d6c36e964ae4a...|\n",
            "|offer received|7fc12dee8c9144f3b...|   0|fafdcd668e3743c1b...|\n",
            "|offer received|cf8dc5cf3dc84f648...|   0|5a8bc65990b245e5a...|\n",
            "|offer received|269424f345f6478e8...|   0|2906b810c7d441179...|\n",
            "|offer received|fcbf38029321416f9...|   0|fafdcd668e3743c1b...|\n",
            "|offer received|2f21db46b5f84be5b...|   0|ae264e3637204a6fb...|\n",
            "|offer received|e5c59811346840e2a...|   0|4d5c57ea9a6940dd8...|\n",
            "|offer received|e633a9090fc746a38...|   0|fafdcd668e3743c1b...|\n",
            "|offer received|b519d8d3bc1c429b8...|   0|fafdcd668e3743c1b...|\n",
            "|offer received|6f6d0c5ddfdb431d9...|   0|2906b810c7d441179...|\n",
            "|offer received|30ab0845fe8c4da38...|   0|fafdcd668e3743c1b...|\n",
            "|offer received|dd2676580c2f4926b...|   0|9b98b8c7a33c4b65b...|\n",
            "|offer received|7d76c5a597f7490e8...|   0|3f207df678b143eea...|\n",
            "|offer received|d98603fa5f1a4d21a...|   0|2906b810c7d441179...|\n",
            "+--------------+--------------------+----+--------------------+\n",
            "only showing top 20 rows\n",
            "\n"
          ]
        }
      ],
      "source": [
        "# making transactions dataframe\n",
        "transactions = transcript.filter(\"event == 'transaction' \")\n",
        "transactions = transactions.withColumn(\"trans_amount\",coalesce(\"value.amount\"))\n",
        "transactions = transactions.drop('value')\n",
        "transactions.show()\n",
        "\n",
        "# making offers dataframe\n",
        "offers = transcript.filter(\"event != 'transaction' \")\n",
        "offers = offers.withColumn(\"offer_id\",coalesce(\"value.offer_id\", \"value.offer id\"))\n",
        "offers = offers.drop('value')\n",
        "offers.show()\n"
      ]
    },
    {
      "cell_type": "code",
      "execution_count": null,
      "metadata": {
        "id": "GXekyGNAjMCa",
        "outputId": "6e02cb71-151a-4377-d4fd-70ba1b3a409d"
      },
      "outputs": [
        {
          "name": "stdout",
          "output_type": "stream",
          "text": [
            "+------------+\n",
            "|trans_amount|\n",
            "+------------+\n",
            "+------------+\n",
            "\n",
            "+--------+\n",
            "|offer_id|\n",
            "+--------+\n",
            "+--------+\n",
            "\n"
          ]
        }
      ],
      "source": [
        "# checking null values are present or not for transactions and offers dataframe\n",
        "transactions.select(\"trans_amount\").filter(\"trans_amount is null\").show(1)\n",
        "offers.select(\"offer_id\").filter(\"offer_id is null\").show(1)"
      ]
    },
    {
      "cell_type": "code",
      "execution_count": null,
      "metadata": {
        "id": "b-Rg4v1pjMCa",
        "outputId": "42abb3d9-4877-4b54-b781-cf94b4f69731"
      },
      "outputs": [
        {
          "name": "stdout",
          "output_type": "stream",
          "text": [
            "+-----------+--------------------+----+------------+\n",
            "|      event|              person|time|trans_amount|\n",
            "+-----------+--------------------+----+------------+\n",
            "|transaction|7a1eda9ab57049068...|   0|        6.13|\n",
            "|transaction|2fb4578848f34ce4b...|   0|        21.4|\n",
            "|transaction|6851449a9192478d8...|   0|         2.3|\n",
            "|transaction|d5e320154bed47159...|   0|        7.83|\n",
            "|transaction|461e13a14a074077b...|   6|        7.94|\n",
            "|transaction|6e0b0d6db74942b49...|   6|        8.12|\n",
            "|transaction|8d59a5826cc547f58...|   6|       23.77|\n",
            "|transaction|ae56c4d76ac84a639...|   6|       27.23|\n",
            "|transaction|1575f73eb0274ab6b...|   6|        0.13|\n",
            "|transaction|ea6cfa381e2c492e9...|   6|       13.84|\n",
            "|transaction|26829118683847c8a...|  12|        7.41|\n",
            "|transaction|9ca7ccb9ef3e44b4a...|  12|        3.13|\n",
            "|transaction|3dbbfc8fc19d40df9...|  12|       10.98|\n",
            "|transaction|3b3f484e876f475ea...|  12|        15.1|\n",
            "|transaction|63b1186a539940508...|  12|        2.93|\n",
            "|transaction|f422c808ac4d47d1a...|  12|         7.7|\n",
            "|transaction|7a59e21bd1c04f688...|  18|       16.21|\n",
            "|transaction|1719f6842add4adb9...|  18|        4.17|\n",
            "|transaction|cd69545de4d64f128...|  18|        1.64|\n",
            "|transaction|3a8d37c666d648a0b...|  24|        1.21|\n",
            "+-----------+--------------------+----+------------+\n",
            "only showing top 20 rows\n",
            "\n",
            "+--------------+--------------------+----+--------------------+\n",
            "|         event|              person|time|            offer_id|\n",
            "+--------------+--------------------+----+--------------------+\n",
            "|offer received|bf2c086d4c4049289...|   0|9b98b8c7a33c4b65b...|\n",
            "|offer received|27aa749a6f5f448e9...|   0|5a8bc65990b245e5a...|\n",
            "|offer received|b94c7601b17b41609...|   0|ae264e3637204a6fb...|\n",
            "|offer received|696493b9f616411a8...|   0|fafdcd668e3743c1b...|\n",
            "|offer received|56163abfe5a848deb...|   0|f19421c1d4aa40978...|\n",
            "|offer received|abf29a94ba3d46488...|   0|5a8bc65990b245e5a...|\n",
            "|offer received|23264960b6724afea...|   0|2298d6c36e964ae4a...|\n",
            "|offer received|7fc12dee8c9144f3b...|   0|fafdcd668e3743c1b...|\n",
            "|offer received|cf8dc5cf3dc84f648...|   0|5a8bc65990b245e5a...|\n",
            "|offer received|269424f345f6478e8...|   0|2906b810c7d441179...|\n",
            "|offer received|fcbf38029321416f9...|   0|fafdcd668e3743c1b...|\n",
            "|offer received|2f21db46b5f84be5b...|   0|ae264e3637204a6fb...|\n",
            "|offer received|e5c59811346840e2a...|   0|4d5c57ea9a6940dd8...|\n",
            "|offer received|e633a9090fc746a38...|   0|fafdcd668e3743c1b...|\n",
            "|offer received|b519d8d3bc1c429b8...|   0|fafdcd668e3743c1b...|\n",
            "|offer received|6f6d0c5ddfdb431d9...|   0|2906b810c7d441179...|\n",
            "|offer received|30ab0845fe8c4da38...|   0|fafdcd668e3743c1b...|\n",
            "|offer received|dd2676580c2f4926b...|   0|9b98b8c7a33c4b65b...|\n",
            "|offer received|7d76c5a597f7490e8...|   0|3f207df678b143eea...|\n",
            "|offer received|d98603fa5f1a4d21a...|   0|2906b810c7d441179...|\n",
            "+--------------+--------------------+----+--------------------+\n",
            "only showing top 20 rows\n",
            "\n"
          ]
        }
      ],
      "source": [
        "# working on null values for transactions and offers dataframe\n",
        "\n",
        "# transactions dataframe :\n",
        "##  filling trans_amount column's null values with the mean or average value of trans_amount column\n",
        "mean_vals = transactions.select(mean(transactions.trans_amount)).collect()\n",
        "mean_vals\n",
        "mean_trans = mean_vals[0][0]\n",
        "#now using mean_trans value to fill the nulls in trans_amount column\n",
        "transactions = transactions.na.fill(mean_trans,subset=['trans_amount'])\n",
        "transactions.show()\n",
        "\n",
        "\n",
        "# offers dataframe\n",
        "## removing rows where null is present in offer_id column (primary key)\n",
        "offers = offers.filter(\"offer_id is not null\")\n",
        "offers.show()\n"
      ]
    },
    {
      "cell_type": "code",
      "execution_count": null,
      "metadata": {
        "id": "LmLjtGc5jMCb"
      },
      "outputs": [],
      "source": []
    },
    {
      "cell_type": "markdown",
      "metadata": {
        "id": "-fR77k91jMCb"
      },
      "source": [
        "### Portfolio"
      ]
    },
    {
      "cell_type": "code",
      "execution_count": null,
      "metadata": {
        "id": "0LSLgAHmjMCb",
        "outputId": "0304aca1-f76c-43b5-c0c8-cb259415c6ab"
      },
      "outputs": [
        {
          "name": "stdout",
          "output_type": "stream",
          "text": [
            "+--------------------+----------+--------+--------------------+-------------+------+\n",
            "|            channels|difficulty|duration|                  id|   offer_type|reward|\n",
            "+--------------------+----------+--------+--------------------+-------------+------+\n",
            "|[web, email, mobile]|         0|     4.0|3f207df678b143eea...|informational|     0|\n",
            "|[email, mobile, s...|         0|     3.0|5a8bc65990b245e5a...|informational|     0|\n",
            "|[email, mobile, s...|        10|     7.0|ae264e3637204a6fb...|         bogo|    10|\n",
            "|[web, email, mobi...|         5|     5.0|f19421c1d4aa40978...|         bogo|     5|\n",
            "|[web, email, mobi...|         7|     7.0|2298d6c36e964ae4a...|     discount|     3|\n",
            "|[web, email, mobi...|        10|    10.0|fafdcd668e3743c1b...|     discount|     2|\n",
            "|[web, email, mobi...|        10|     5.0|4d5c57ea9a6940dd8...|         bogo|    10|\n",
            "|[web, email, mobile]|        10|     7.0|2906b810c7d441179...|     discount|     2|\n",
            "|        [web, email]|        20|    10.0|0b1e1539f2cc45b7b...|     discount|     5|\n",
            "|[web, email, mobile]|         5|     7.0|9b98b8c7a33c4b65b...|         bogo|     5|\n",
            "+--------------------+----------+--------+--------------------+-------------+------+\n",
            "\n"
          ]
        }
      ],
      "source": [
        "portfolio.show()"
      ]
    },
    {
      "cell_type": "code",
      "execution_count": null,
      "metadata": {
        "id": "6wwFP7gXjMCc",
        "outputId": "2ec2ac0a-a70f-41e5-ef23-dd6a03d1da87"
      },
      "outputs": [
        {
          "name": "stdout",
          "output_type": "stream",
          "text": [
            "root\n",
            " |-- channels: array (nullable = true)\n",
            " |    |-- element: string (containsNull = true)\n",
            " |-- difficulty: long (nullable = true)\n",
            " |-- duration: double (nullable = true)\n",
            " |-- id: string (nullable = true)\n",
            " |-- offer_type: string (nullable = true)\n",
            " |-- reward: long (nullable = true)\n",
            "\n"
          ]
        }
      ],
      "source": [
        "portfolio.printSchema()"
      ]
    },
    {
      "cell_type": "code",
      "execution_count": null,
      "metadata": {
        "id": "_hsSSzbHjMCc",
        "outputId": "bffcd03e-0937-4b27-db1b-7a9139d73ceb"
      },
      "outputs": [
        {
          "name": "stdout",
          "output_type": "stream",
          "text": [
            "+--------+\n",
            "|channels|\n",
            "+--------+\n",
            "+--------+\n",
            "\n",
            "+----------+\n",
            "|difficulty|\n",
            "+----------+\n",
            "+----------+\n",
            "\n",
            "+--------+\n",
            "|duration|\n",
            "+--------+\n",
            "+--------+\n",
            "\n",
            "+---+\n",
            "| id|\n",
            "+---+\n",
            "+---+\n",
            "\n",
            "+----------+\n",
            "|offer_type|\n",
            "+----------+\n",
            "+----------+\n",
            "\n",
            "+------+\n",
            "|reward|\n",
            "+------+\n",
            "+------+\n",
            "\n"
          ]
        }
      ],
      "source": [
        "# Checking Null values are present or not for all the columns\n",
        "portfolio.select(\"channels\").filter(\"channels is null\").show()\n",
        "portfolio.select(\"difficulty\").filter(\"difficulty is null\").show()\n",
        "portfolio.select(\"duration\").filter(\"duration is null\").show()\n",
        "portfolio.select(\"id\").filter(\"id is null\").show()\n",
        "portfolio.select(\"offer_type\").filter(\"offer_type is null\").show()\n",
        "portfolio.select(\"reward\").filter(\"reward is null\").show()"
      ]
    },
    {
      "cell_type": "code",
      "execution_count": null,
      "metadata": {
        "id": "OjGI4giHjMCd",
        "outputId": "805fc038-9647-4ffd-dd7b-5421172b7358"
      },
      "outputs": [
        {
          "name": "stdout",
          "output_type": "stream",
          "text": [
            "+--------------------+----------+--------+--------------------+-------------+------+\n",
            "|            channels|difficulty|duration|                  id|   offer_type|reward|\n",
            "+--------------------+----------+--------+--------------------+-------------+------+\n",
            "|[web, email, mobile]|         0|     4.0|3f207df678b143eea...|informational|     0|\n",
            "|[email, mobile, s...|         0|     3.0|5a8bc65990b245e5a...|informational|     0|\n",
            "|[email, mobile, s...|        10|     7.0|ae264e3637204a6fb...|         bogo|    10|\n",
            "|[web, email, mobi...|         5|     5.0|f19421c1d4aa40978...|         bogo|     5|\n",
            "|[web, email, mobi...|         7|     7.0|2298d6c36e964ae4a...|     discount|     3|\n",
            "|[web, email, mobi...|        10|    10.0|fafdcd668e3743c1b...|     discount|     2|\n",
            "|[web, email, mobi...|        10|     5.0|4d5c57ea9a6940dd8...|         bogo|    10|\n",
            "|[web, email, mobile]|        10|     7.0|2906b810c7d441179...|     discount|     2|\n",
            "|        [web, email]|        20|    10.0|0b1e1539f2cc45b7b...|     discount|     5|\n",
            "|[web, email, mobile]|         5|     7.0|9b98b8c7a33c4b65b...|         bogo|     5|\n",
            "+--------------------+----------+--------+--------------------+-------------+------+\n",
            "\n"
          ]
        }
      ],
      "source": [
        "# working on null values\n",
        "\n",
        "# filling null values of difficulty, duration, offer_type, reward\n",
        "portfolio = portfolio.na.fill({'difficulty': 0,'duration':0.0, 'offer_type':'NA','reward':0})\n",
        "\n",
        "# removing rows where null is present in id column (primary key)\n",
        "portfolio = portfolio.filter(\"id is not null\")\n",
        "portfolio.show()\n"
      ]
    },
    {
      "cell_type": "markdown",
      "metadata": {
        "id": "96WeC4g9jMCd"
      },
      "source": [
        "# Merging Dataframes"
      ]
    },
    {
      "cell_type": "code",
      "execution_count": null,
      "metadata": {
        "id": "tzaGG906jMCd",
        "outputId": "45f70ac3-cce3-48a0-fd4d-030da3c1f84a"
      },
      "outputs": [
        {
          "name": "stdout",
          "output_type": "stream",
          "text": [
            "+---+----------------+------+--------------------+------+\n",
            "|age|became_member_on|gender|                  id|income|\n",
            "+---+----------------+------+--------------------+------+\n",
            "| 57|      2016-08-27|     F|b3ad8755d0ac47faa...| 67000|\n",
            "| 52|      2014-01-13|     F|6cabe7c6741e4f0eb...| 45000|\n",
            "+---+----------------+------+--------------------+------+\n",
            "only showing top 2 rows\n",
            "\n"
          ]
        }
      ],
      "source": [
        "profile.show(2)"
      ]
    },
    {
      "cell_type": "code",
      "execution_count": null,
      "metadata": {
        "id": "7js3RJRhjMCe",
        "outputId": "86790f89-2dca-493a-c02e-5c6123f81536"
      },
      "outputs": [
        {
          "name": "stdout",
          "output_type": "stream",
          "text": [
            "+--------------------+----------+--------+--------------------+-------------+------+\n",
            "|            channels|difficulty|duration|                  id|   offer_type|reward|\n",
            "+--------------------+----------+--------+--------------------+-------------+------+\n",
            "|[web, email, mobile]|         0|     4.0|3f207df678b143eea...|informational|     0|\n",
            "|[email, mobile, s...|         0|     3.0|5a8bc65990b245e5a...|informational|     0|\n",
            "+--------------------+----------+--------+--------------------+-------------+------+\n",
            "only showing top 2 rows\n",
            "\n"
          ]
        }
      ],
      "source": [
        "portfolio.show(2)"
      ]
    },
    {
      "cell_type": "markdown",
      "metadata": {
        "id": "Rw7GBNywjMCe"
      },
      "source": [
        "#### transcript"
      ]
    },
    {
      "cell_type": "code",
      "execution_count": null,
      "metadata": {
        "id": "sh6jygdyjMCe",
        "outputId": "ed398b23-b6d6-4e38-9a35-9a22be411868"
      },
      "outputs": [
        {
          "name": "stdout",
          "output_type": "stream",
          "text": [
            "+-----------+--------------------+----+------------+\n",
            "|      event|              person|time|trans_amount|\n",
            "+-----------+--------------------+----+------------+\n",
            "|transaction|7a1eda9ab57049068...|   0|        6.13|\n",
            "|transaction|2fb4578848f34ce4b...|   0|        21.4|\n",
            "+-----------+--------------------+----+------------+\n",
            "only showing top 2 rows\n",
            "\n"
          ]
        }
      ],
      "source": [
        "transactions.show(2)"
      ]
    },
    {
      "cell_type": "code",
      "execution_count": null,
      "metadata": {
        "id": "TR-UbnK1jMCf",
        "outputId": "c86ffed6-fe00-4fa9-987f-76b8939a93d1"
      },
      "outputs": [
        {
          "name": "stdout",
          "output_type": "stream",
          "text": [
            "+--------------+--------------------+----+--------------------+\n",
            "|         event|              person|time|            offer_id|\n",
            "+--------------+--------------------+----+--------------------+\n",
            "|offer received|bf2c086d4c4049289...|   0|9b98b8c7a33c4b65b...|\n",
            "|offer received|27aa749a6f5f448e9...|   0|5a8bc65990b245e5a...|\n",
            "+--------------+--------------------+----+--------------------+\n",
            "only showing top 2 rows\n",
            "\n"
          ]
        }
      ],
      "source": [
        "offers.show(2)"
      ]
    },
    {
      "cell_type": "code",
      "execution_count": null,
      "metadata": {
        "id": "hnluTEXgjMCf",
        "outputId": "14daead7-f66b-4334-8a57-0c0ba8e25f7b"
      },
      "outputs": [
        {
          "name": "stdout",
          "output_type": "stream",
          "text": [
            "+---+----------------+------+------+--------------+--------------------+----+--------------------+\n",
            "|age|became_member_on|gender|income|         event|              person|time|            offer_id|\n",
            "+---+----------------+------+------+--------------+--------------------+----+--------------------+\n",
            "| 32|      2015-10-08|     M| 38000|offer received|27aa749a6f5f448e9...|   0|5a8bc65990b245e5a...|\n",
            "| 62|      2016-05-02|     F| 98000|offer received|abf29a94ba3d46488...|   0|5a8bc65990b245e5a...|\n",
            "+---+----------------+------+------+--------------+--------------------+----+--------------------+\n",
            "only showing top 2 rows\n",
            "\n",
            "+---+----------------+------+------+--------------+--------------------+----+--------------------+--------------------+----------+--------+-------------+------+\n",
            "|age|became_member_on|gender|income|         event|              person|time|            offer_id|            channels|difficulty|duration|   offer_type|reward|\n",
            "+---+----------------+------+------+--------------+--------------------+----+--------------------+--------------------+----------+--------+-------------+------+\n",
            "| 32|      2015-10-08|     M| 38000|offer received|27aa749a6f5f448e9...|   0|5a8bc65990b245e5a...|[email, mobile, s...|         0|     3.0|informational|     0|\n",
            "| 62|      2016-05-02|     F| 98000|offer received|abf29a94ba3d46488...|   0|5a8bc65990b245e5a...|[email, mobile, s...|         0|     3.0|informational|     0|\n",
            "+---+----------------+------+------+--------------+--------------------+----+--------------------+--------------------+----------+--------+-------------+------+\n",
            "only showing top 2 rows\n",
            "\n"
          ]
        }
      ],
      "source": [
        "# joining profile, portfolio and offers for all the offers\n",
        "\n",
        "df1 = profile.join(offers, profile.id == offers.person, 'inner').drop(profile.id)\n",
        "df1.show(2)\n",
        "\n",
        "allOffers = df1.join(portfolio, df1.offer_id == portfolio.id, 'inner').drop(portfolio.id)\n",
        "allOffers.show(2)"
      ]
    },
    {
      "cell_type": "code",
      "execution_count": null,
      "metadata": {
        "id": "NU2Xnhp9jMCg",
        "outputId": "f2141e18-fcd1-4661-edd3-3ea790466b3c"
      },
      "outputs": [
        {
          "name": "stdout",
          "output_type": "stream",
          "text": [
            "+---+----------------+------+------+-----------+--------------------+----+------------+\n",
            "|age|became_member_on|gender|income|      event|              person|time|trans_amount|\n",
            "+---+----------------+------+------+-----------+--------------------+----+------------+\n",
            "| 51|      2015-12-16|     M| 81000|transaction|2fb4578848f34ce4b...|   0|        21.4|\n",
            "| 40|      2017-11-14|     M| 39000|transaction|6851449a9192478d8...|   0|         2.3|\n",
            "+---+----------------+------+------+-----------+--------------------+----+------------+\n",
            "only showing top 2 rows\n",
            "\n"
          ]
        }
      ],
      "source": [
        "# joining profile and transactions for all the transactions\n",
        "\n",
        "allTransactions = profile.join(transactions, profile.id == transactions.person, 'inner').drop(profile.id)\n",
        "allTransactions.show(2)"
      ]
    },
    {
      "cell_type": "code",
      "execution_count": null,
      "metadata": {
        "id": "YEt8tzFHjMCg",
        "outputId": "8607a4be-09e7-420a-b1d7-ff681ffb099c"
      },
      "outputs": [
        {
          "name": "stdout",
          "output_type": "stream",
          "text": [
            "+---+----------------+------+------+--------------+--------------------+----+--------------------+--------------------+----------+--------+-------------+------+\n",
            "|age|became_member_on|gender|income|         event|              person|time|            offer_id|            channels|difficulty|duration|   offer_type|reward|\n",
            "+---+----------------+------+------+--------------+--------------------+----+--------------------+--------------------+----------+--------+-------------+------+\n",
            "| 32|      2015-10-08|     M| 38000|offer received|27aa749a6f5f448e9...|   0|5a8bc65990b245e5a...|[email, mobile, s...|         0|     3.0|informational|     0|\n",
            "| 62|      2016-05-02|     F| 98000|offer received|abf29a94ba3d46488...|   0|5a8bc65990b245e5a...|[email, mobile, s...|         0|     3.0|informational|     0|\n",
            "+---+----------------+------+------+--------------+--------------------+----+--------------------+--------------------+----------+--------+-------------+------+\n",
            "only showing top 2 rows\n",
            "\n",
            "root\n",
            " |-- age: long (nullable = true)\n",
            " |-- became_member_on: date (nullable = true)\n",
            " |-- gender: string (nullable = false)\n",
            " |-- income: long (nullable = true)\n",
            " |-- event: string (nullable = false)\n",
            " |-- person: string (nullable = true)\n",
            " |-- time: long (nullable = false)\n",
            " |-- offer_id: string (nullable = true)\n",
            " |-- channels: array (nullable = true)\n",
            " |    |-- element: string (containsNull = true)\n",
            " |-- difficulty: long (nullable = false)\n",
            " |-- duration: double (nullable = false)\n",
            " |-- offer_type: string (nullable = false)\n",
            " |-- reward: long (nullable = false)\n",
            "\n"
          ]
        }
      ],
      "source": [
        "allOffers.show(2)\n",
        "allOffers.printSchema()"
      ]
    },
    {
      "cell_type": "code",
      "execution_count": null,
      "metadata": {
        "id": "bCOGh_ytjMCg",
        "outputId": "77005332-99b9-466e-d1f2-7ff497d5b45b"
      },
      "outputs": [
        {
          "name": "stdout",
          "output_type": "stream",
          "text": [
            "+---+----------------+------+------+-----------+--------------------+----+------------+\n",
            "|age|became_member_on|gender|income|      event|              person|time|trans_amount|\n",
            "+---+----------------+------+------+-----------+--------------------+----+------------+\n",
            "| 51|      2015-12-16|     M| 81000|transaction|2fb4578848f34ce4b...|   0|        21.4|\n",
            "| 40|      2017-11-14|     M| 39000|transaction|6851449a9192478d8...|   0|         2.3|\n",
            "+---+----------------+------+------+-----------+--------------------+----+------------+\n",
            "only showing top 2 rows\n",
            "\n",
            "root\n",
            " |-- age: long (nullable = true)\n",
            " |-- became_member_on: date (nullable = true)\n",
            " |-- gender: string (nullable = false)\n",
            " |-- income: long (nullable = true)\n",
            " |-- event: string (nullable = false)\n",
            " |-- person: string (nullable = true)\n",
            " |-- time: long (nullable = false)\n",
            " |-- trans_amount: double (nullable = false)\n",
            "\n"
          ]
        }
      ],
      "source": [
        "allTransactions.show(2)\n",
        "allTransactions.printSchema()"
      ]
    },
    {
      "cell_type": "markdown",
      "metadata": {
        "id": "eEflhIVkjMCh"
      },
      "source": [
        "# Dumping data into MongoDB"
      ]
    },
    {
      "cell_type": "code",
      "execution_count": null,
      "metadata": {
        "id": "HL5d1SsQjMCh"
      },
      "outputs": [],
      "source": [
        "from pyspark.sql import SparkSession\n",
        "\n",
        "spark = SparkSession.builder.master(\"local[*]\").\\\n",
        "config(\"spark.mongodb.input.uri\",\"mongodb://localhost:27017/\").\\\n",
        "config(\"spark.mongodb.output.uri\",\"mongodb://locahost:27017/\").\\\n",
        "config(\"spark.jars.packages\",\"org.mongodb.spark:mongo-spark-connector_2.12:3.0.0\").\\\n",
        "getOrCreate()"
      ]
    },
    {
      "cell_type": "code",
      "execution_count": null,
      "metadata": {
        "id": "uWwWvgc8jMCh",
        "outputId": "fe355389-79d3-4ab8-d27d-0ec3385674b0"
      },
      "outputs": [
        {
          "data": {
            "text/plain": [
              "131665"
            ]
          },
          "execution_count": 59,
          "metadata": {},
          "output_type": "execute_result"
        }
      ],
      "source": [
        "allOffers.write.format(\"mongo\").option(\"uri\",\"mongodb://localhost:27017/starbucks.data1\").mode(\"append\").save()\n",
        "allOffers.count()"
      ]
    },
    {
      "cell_type": "code",
      "execution_count": null,
      "metadata": {
        "id": "IQt05SbvjMCi",
        "outputId": "c3908428-eedf-41ee-cfb7-4cbca10c18d2"
      },
      "outputs": [
        {
          "data": {
            "text/plain": [
              "111086"
            ]
          },
          "execution_count": 60,
          "metadata": {},
          "output_type": "execute_result"
        }
      ],
      "source": [
        "allTransactions.write.format(\"mongo\").option(\"uri\",\"mongodb://localhost:27017/starbucks.data2\").mode(\"append\").save()\n",
        "allTransactions.count()"
      ]
    },
    {
      "cell_type": "code",
      "execution_count": null,
      "metadata": {
        "id": "KDe3DZzEjMCi"
      },
      "outputs": [],
      "source": []
    }
  ],
  "metadata": {
    "kernelspec": {
      "display_name": "Python 3",
      "language": "python",
      "name": "python3"
    },
    "language_info": {
      "codemirror_mode": {
        "name": "ipython",
        "version": 3
      },
      "file_extension": ".py",
      "mimetype": "text/x-python",
      "name": "python",
      "nbconvert_exporter": "python",
      "pygments_lexer": "ipython3",
      "version": "3.7.3"
    },
    "colab": {
      "provenance": []
    }
  },
  "nbformat": 4,
  "nbformat_minor": 0
}